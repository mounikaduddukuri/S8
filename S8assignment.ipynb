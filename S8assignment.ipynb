{
  "nbformat": 4,
  "nbformat_minor": 0,
  "metadata": {
    "colab": {
      "name": "S8Assignment.ipynb",
      "provenance": [],
      "collapsed_sections": [],
      "authorship_tag": "ABX9TyOZUsBJkcJWLZQ1h+vFOBWS",
      "include_colab_link": true
    },
    "kernelspec": {
      "name": "python3",
      "display_name": "Python 3"
    },
    "accelerator": "GPU",
    "widgets": {
      "application/vnd.jupyter.widget-state+json": {
        "f3e53df499944de8964944353f238487": {
          "model_module": "@jupyter-widgets/controls",
          "model_name": "HBoxModel",
          "state": {
            "_view_name": "HBoxView",
            "_dom_classes": [],
            "_model_name": "HBoxModel",
            "_view_module": "@jupyter-widgets/controls",
            "_model_module_version": "1.5.0",
            "_view_count": null,
            "_view_module_version": "1.5.0",
            "box_style": "",
            "layout": "IPY_MODEL_8b9bbe5956b54194b6df880bf7a3dc3e",
            "_model_module": "@jupyter-widgets/controls",
            "children": [
              "IPY_MODEL_b084932419af40ec873780505de8f85d",
              "IPY_MODEL_43edf073930f42249501610c8168a8ac"
            ]
          }
        },
        "8b9bbe5956b54194b6df880bf7a3dc3e": {
          "model_module": "@jupyter-widgets/base",
          "model_name": "LayoutModel",
          "state": {
            "_view_name": "LayoutView",
            "grid_template_rows": null,
            "right": null,
            "justify_content": null,
            "_view_module": "@jupyter-widgets/base",
            "overflow": null,
            "_model_module_version": "1.2.0",
            "_view_count": null,
            "flex_flow": null,
            "width": null,
            "min_width": null,
            "border": null,
            "align_items": null,
            "bottom": null,
            "_model_module": "@jupyter-widgets/base",
            "top": null,
            "grid_column": null,
            "overflow_y": null,
            "overflow_x": null,
            "grid_auto_flow": null,
            "grid_area": null,
            "grid_template_columns": null,
            "flex": null,
            "_model_name": "LayoutModel",
            "justify_items": null,
            "grid_row": null,
            "max_height": null,
            "align_content": null,
            "visibility": null,
            "align_self": null,
            "height": null,
            "min_height": null,
            "padding": null,
            "grid_auto_rows": null,
            "grid_gap": null,
            "max_width": null,
            "order": null,
            "_view_module_version": "1.2.0",
            "grid_template_areas": null,
            "object_position": null,
            "object_fit": null,
            "grid_auto_columns": null,
            "margin": null,
            "display": null,
            "left": null
          }
        },
        "b084932419af40ec873780505de8f85d": {
          "model_module": "@jupyter-widgets/controls",
          "model_name": "IntProgressModel",
          "state": {
            "_view_name": "ProgressView",
            "style": "IPY_MODEL_598df205bd2b4c0fb21fc6df89c6d081",
            "_dom_classes": [],
            "description": "",
            "_model_name": "IntProgressModel",
            "bar_style": "info",
            "max": 1,
            "_view_module": "@jupyter-widgets/controls",
            "_model_module_version": "1.5.0",
            "value": 1,
            "_view_count": null,
            "_view_module_version": "1.5.0",
            "orientation": "horizontal",
            "min": 0,
            "description_tooltip": null,
            "_model_module": "@jupyter-widgets/controls",
            "layout": "IPY_MODEL_cef34666d81041c7b86a06bf102c7fa6"
          }
        },
        "43edf073930f42249501610c8168a8ac": {
          "model_module": "@jupyter-widgets/controls",
          "model_name": "HTMLModel",
          "state": {
            "_view_name": "HTMLView",
            "style": "IPY_MODEL_020d6db343e14634bf51302f68f4ac08",
            "_dom_classes": [],
            "description": "",
            "_model_name": "HTMLModel",
            "placeholder": "​",
            "_view_module": "@jupyter-widgets/controls",
            "_model_module_version": "1.5.0",
            "value": "170500096it [00:30, 13986581.45it/s]",
            "_view_count": null,
            "_view_module_version": "1.5.0",
            "description_tooltip": null,
            "_model_module": "@jupyter-widgets/controls",
            "layout": "IPY_MODEL_f93e8ad679cf4b19ba035adc41833dd5"
          }
        },
        "598df205bd2b4c0fb21fc6df89c6d081": {
          "model_module": "@jupyter-widgets/controls",
          "model_name": "ProgressStyleModel",
          "state": {
            "_view_name": "StyleView",
            "_model_name": "ProgressStyleModel",
            "description_width": "",
            "_view_module": "@jupyter-widgets/base",
            "_model_module_version": "1.5.0",
            "_view_count": null,
            "_view_module_version": "1.2.0",
            "bar_color": null,
            "_model_module": "@jupyter-widgets/controls"
          }
        },
        "cef34666d81041c7b86a06bf102c7fa6": {
          "model_module": "@jupyter-widgets/base",
          "model_name": "LayoutModel",
          "state": {
            "_view_name": "LayoutView",
            "grid_template_rows": null,
            "right": null,
            "justify_content": null,
            "_view_module": "@jupyter-widgets/base",
            "overflow": null,
            "_model_module_version": "1.2.0",
            "_view_count": null,
            "flex_flow": null,
            "width": null,
            "min_width": null,
            "border": null,
            "align_items": null,
            "bottom": null,
            "_model_module": "@jupyter-widgets/base",
            "top": null,
            "grid_column": null,
            "overflow_y": null,
            "overflow_x": null,
            "grid_auto_flow": null,
            "grid_area": null,
            "grid_template_columns": null,
            "flex": null,
            "_model_name": "LayoutModel",
            "justify_items": null,
            "grid_row": null,
            "max_height": null,
            "align_content": null,
            "visibility": null,
            "align_self": null,
            "height": null,
            "min_height": null,
            "padding": null,
            "grid_auto_rows": null,
            "grid_gap": null,
            "max_width": null,
            "order": null,
            "_view_module_version": "1.2.0",
            "grid_template_areas": null,
            "object_position": null,
            "object_fit": null,
            "grid_auto_columns": null,
            "margin": null,
            "display": null,
            "left": null
          }
        },
        "020d6db343e14634bf51302f68f4ac08": {
          "model_module": "@jupyter-widgets/controls",
          "model_name": "DescriptionStyleModel",
          "state": {
            "_view_name": "StyleView",
            "_model_name": "DescriptionStyleModel",
            "description_width": "",
            "_view_module": "@jupyter-widgets/base",
            "_model_module_version": "1.5.0",
            "_view_count": null,
            "_view_module_version": "1.2.0",
            "_model_module": "@jupyter-widgets/controls"
          }
        },
        "f93e8ad679cf4b19ba035adc41833dd5": {
          "model_module": "@jupyter-widgets/base",
          "model_name": "LayoutModel",
          "state": {
            "_view_name": "LayoutView",
            "grid_template_rows": null,
            "right": null,
            "justify_content": null,
            "_view_module": "@jupyter-widgets/base",
            "overflow": null,
            "_model_module_version": "1.2.0",
            "_view_count": null,
            "flex_flow": null,
            "width": null,
            "min_width": null,
            "border": null,
            "align_items": null,
            "bottom": null,
            "_model_module": "@jupyter-widgets/base",
            "top": null,
            "grid_column": null,
            "overflow_y": null,
            "overflow_x": null,
            "grid_auto_flow": null,
            "grid_area": null,
            "grid_template_columns": null,
            "flex": null,
            "_model_name": "LayoutModel",
            "justify_items": null,
            "grid_row": null,
            "max_height": null,
            "align_content": null,
            "visibility": null,
            "align_self": null,
            "height": null,
            "min_height": null,
            "padding": null,
            "grid_auto_rows": null,
            "grid_gap": null,
            "max_width": null,
            "order": null,
            "_view_module_version": "1.2.0",
            "grid_template_areas": null,
            "object_position": null,
            "object_fit": null,
            "grid_auto_columns": null,
            "margin": null,
            "display": null,
            "left": null
          }
        }
      }
    }
  },
  "cells": [
    {
      "cell_type": "markdown",
      "metadata": {
        "id": "view-in-github",
        "colab_type": "text"
      },
      "source": [
        "<a href=\"https://colab.research.google.com/github/johnjkiran/TSAI/blob/master/S8/S8Assignment.ipynb\" target=\"_parent\"><img src=\"https://colab.research.google.com/assets/colab-badge.svg\" alt=\"Open In Colab\"/></a>"
      ]
    },
    {
      "cell_type": "code",
      "metadata": {
        "id": "UXvSRIzd18Ix",
        "colab_type": "code",
        "colab": {}
      },
      "source": [
        "import torch\n",
        "import torchvision\n",
        "import torch.nn as nn\n",
        "import torch.optim as optim\n",
        "from __future__ import print_function\n",
        "import torch.nn.functional as F\n",
        "from torchvision import datasets, transforms"
      ],
      "execution_count": 0,
      "outputs": []
    },
    {
      "cell_type": "code",
      "metadata": {
        "id": "haGWnrWS0PJa",
        "colab_type": "code",
        "colab": {
          "base_uri": "https://localhost:8080/",
          "height": 130
        },
        "outputId": "726cf479-5344-4876-c25c-708dc1b788d3"
      },
      "source": [
        "from os.path import join\n",
        "from google.colab import drive\n",
        "ROOT = \"/content/drive\"\n",
        "drive.mount(ROOT)"
      ],
      "execution_count": 3,
      "outputs": [
        {
          "output_type": "stream",
          "text": [
            "Go to this URL in a browser: https://accounts.google.com/o/oauth2/auth?client_id=947318989803-6bn6qk8qdgf4n4g3pfee6491hc0brc4i.apps.googleusercontent.com&redirect_uri=urn%3aietf%3awg%3aoauth%3a2.0%3aoob&response_type=code&scope=email%20https%3a%2f%2fwww.googleapis.com%2fauth%2fdocs.test%20https%3a%2f%2fwww.googleapis.com%2fauth%2fdrive%20https%3a%2f%2fwww.googleapis.com%2fauth%2fdrive.photos.readonly%20https%3a%2f%2fwww.googleapis.com%2fauth%2fpeopleapi.readonly\n",
            "\n",
            "Enter your authorization code:\n",
            "··········\n",
            "Mounted at /content/drive\n"
          ],
          "name": "stdout"
        }
      ]
    },
    {
      "cell_type": "code",
      "metadata": {
        "id": "mZSiSA760bpI",
        "colab_type": "code",
        "colab": {}
      },
      "source": [
        "from importlib.machinery import SourceFileLoader\n",
        "config = SourceFileLoader('config',join('/content/drive/My Drive/Colab Notebooks/S8','config.py')).load_module()\n",
        "from config import ModelConfig"
      ],
      "execution_count": 0,
      "outputs": []
    },
    {
      "cell_type": "code",
      "metadata": {
        "id": "StM7yVbM02kZ",
        "colab_type": "code",
        "colab": {
          "base_uri": "https://localhost:8080/",
          "height": 184
        },
        "outputId": "575d346f-64b5-4b1d-c2bb-f671ac27318e"
      },
      "source": [
        "# View model config\n",
        "args = ModelConfig()\n",
        "args.print_config()\n",
        "\n",
        "print()\n",
        "# CUDA?\n",
        "cuda = torch.cuda.is_available()\n",
        "print(\"CUDA Available?\", cuda)"
      ],
      "execution_count": 5,
      "outputs": [
        {
          "output_type": "stream",
          "text": [
            "Model Parameters:\n",
            "{ 'batch_size_cpu': 64,\n",
            "  'batch_size_cuda': 64,\n",
            "  'dropout_value': 0.15,\n",
            "  'epochs': 50,\n",
            "  'num_workers': 4,\n",
            "  'seed': 1}\n",
            "\n",
            "CUDA Available? True\n"
          ],
          "name": "stdout"
        }
      ]
    },
    {
      "cell_type": "code",
      "metadata": {
        "id": "OkjHihdR7bFf",
        "colab_type": "code",
        "colab": {}
      },
      "source": [
        "utils = SourceFileLoader('utils',join('/content/drive/My Drive/Colab Notebooks/S8','utils.py')).load_module()\n",
        "from utils import *"
      ],
      "execution_count": 0,
      "outputs": []
    },
    {
      "cell_type": "code",
      "metadata": {
        "id": "gAw27VYp2i_r",
        "colab_type": "code",
        "colab": {
          "base_uri": "https://localhost:8080/",
          "height": 244,
          "referenced_widgets": [
            "f3e53df499944de8964944353f238487",
            "8b9bbe5956b54194b6df880bf7a3dc3e",
            "b084932419af40ec873780505de8f85d",
            "43edf073930f42249501610c8168a8ac",
            "598df205bd2b4c0fb21fc6df89c6d081",
            "cef34666d81041c7b86a06bf102c7fa6",
            "020d6db343e14634bf51302f68f4ac08",
            "f93e8ad679cf4b19ba035adc41833dd5"
          ]
        },
        "outputId": "c8780ada-04d0-43bb-91b8-efedbe529ad4"
      },
      "source": [
        "cifar_file = SourceFileLoader('cifar_file',join('/content/drive/My Drive/Colab Notebooks/S8','cifar_file.py')).load_module()\n",
        "from cifar_file import DataEngine\n",
        "data = DataEngine(args)\n",
        "# get some random training images\n",
        "dataiter = iter(data.train_loader)\n",
        "images, labels = dataiter.next()\n",
        "\n",
        "# show images\n",
        "imshow(torchvision.utils.make_grid(images[:4]))\n",
        "# print labels\n",
        "print(' '.join('%5s' % data.classes[labels[j]] for j in range(4)))\n"
      ],
      "execution_count": 8,
      "outputs": [
        {
          "output_type": "stream",
          "text": [
            "Downloading https://www.cs.toronto.edu/~kriz/cifar-10-python.tar.gz to ./data/cifar-10-python.tar.gz\n"
          ],
          "name": "stdout"
        },
        {
          "output_type": "display_data",
          "data": {
            "application/vnd.jupyter.widget-view+json": {
              "model_id": "f3e53df499944de8964944353f238487",
              "version_minor": 0,
              "version_major": 2
            },
            "text/plain": [
              "HBox(children=(IntProgress(value=1, bar_style='info', max=1), HTML(value='')))"
            ]
          },
          "metadata": {
            "tags": []
          }
        },
        {
          "output_type": "stream",
          "text": [
            "Extracting ./data/cifar-10-python.tar.gz to ./data\n",
            "Files already downloaded and verified\n",
            " bird horse   car   car\n"
          ],
          "name": "stdout"
        },
        {
          "output_type": "display_data",
          "data": {
            "image/png": "[encoded data removed]",
            "text/plain": [
              "<Figure size 432x288 with 1 Axes>"
            ]
          },
          "metadata": {
            "tags": []
          }
        }
      ]
    },
    {
      "cell_type": "code",
      "metadata": {
        "id": "_yb19ivg8RWR",
        "colab_type": "code",
        "colab": {
          "base_uri": "https://localhost:8080/",
          "height": 1000
        },
        "outputId": "02a9d7bd-4d33-4a66-fd6a-4ea54767a77d"
      },
      "source": [
        "model = SourceFileLoader('model',join('/content/drive/My Drive/Colab Notebooks/S8','model.py')).load_module()\n",
        "from model import *\n",
        "device = which_device()\n",
        "net = ResNet18()\n",
        "model = net.to(device)\n",
        "show_model_summary(model, device, (3,32,32))"
      ],
      "execution_count": 14,
      "outputs": [
        {
          "output_type": "stream",
          "text": [
            "----------------------------------------------------------------\n",
            "        Layer (type)               Output Shape         Param #\n",
            "================================================================\n",
            "            Conv2d-1           [-1, 64, 32, 32]           1,728\n",
            "       BatchNorm2d-2           [-1, 64, 32, 32]             128\n",
            "            Conv2d-3           [-1, 64, 32, 32]          36,864\n",
            "       BatchNorm2d-4           [-1, 64, 32, 32]             128\n",
            "            Conv2d-5           [-1, 64, 32, 32]          36,864\n",
            "       BatchNorm2d-6           [-1, 64, 32, 32]             128\n",
            "        BasicBlock-7           [-1, 64, 32, 32]               0\n",
            "            Conv2d-8           [-1, 64, 32, 32]          36,864\n",
            "       BatchNorm2d-9           [-1, 64, 32, 32]             128\n",
            "           Conv2d-10           [-1, 64, 32, 32]          36,864\n",
            "      BatchNorm2d-11           [-1, 64, 32, 32]             128\n",
            "       BasicBlock-12           [-1, 64, 32, 32]               0\n",
            "           Conv2d-13          [-1, 128, 16, 16]          73,728\n",
            "      BatchNorm2d-14          [-1, 128, 16, 16]             256\n",
            "           Conv2d-15          [-1, 128, 16, 16]         147,456\n",
            "      BatchNorm2d-16          [-1, 128, 16, 16]             256\n",
            "           Conv2d-17          [-1, 128, 16, 16]           8,192\n",
            "      BatchNorm2d-18          [-1, 128, 16, 16]             256\n",
            "       BasicBlock-19          [-1, 128, 16, 16]               0\n",
            "           Conv2d-20          [-1, 128, 16, 16]         147,456\n",
            "      BatchNorm2d-21          [-1, 128, 16, 16]             256\n",
            "           Conv2d-22          [-1, 128, 16, 16]         147,456\n",
            "      BatchNorm2d-23          [-1, 128, 16, 16]             256\n",
            "       BasicBlock-24          [-1, 128, 16, 16]               0\n",
            "           Conv2d-25            [-1, 256, 8, 8]         294,912\n",
            "      BatchNorm2d-26            [-1, 256, 8, 8]             512\n",
            "           Conv2d-27            [-1, 256, 8, 8]         589,824\n",
            "      BatchNorm2d-28            [-1, 256, 8, 8]             512\n",
            "           Conv2d-29            [-1, 256, 8, 8]          32,768\n",
            "      BatchNorm2d-30            [-1, 256, 8, 8]             512\n",
            "       BasicBlock-31            [-1, 256, 8, 8]               0\n",
            "           Conv2d-32            [-1, 256, 8, 8]         589,824\n",
            "      BatchNorm2d-33            [-1, 256, 8, 8]             512\n",
            "           Conv2d-34            [-1, 256, 8, 8]         589,824\n",
            "      BatchNorm2d-35            [-1, 256, 8, 8]             512\n",
            "       BasicBlock-36            [-1, 256, 8, 8]               0\n",
            "           Conv2d-37            [-1, 512, 4, 4]       1,179,648\n",
            "      BatchNorm2d-38            [-1, 512, 4, 4]           1,024\n",
            "           Conv2d-39            [-1, 512, 4, 4]       2,359,296\n",
            "      BatchNorm2d-40            [-1, 512, 4, 4]           1,024\n",
            "           Conv2d-41            [-1, 512, 4, 4]         131,072\n",
            "      BatchNorm2d-42            [-1, 512, 4, 4]           1,024\n",
            "       BasicBlock-43            [-1, 512, 4, 4]               0\n",
            "           Conv2d-44            [-1, 512, 4, 4]       2,359,296\n",
            "      BatchNorm2d-45            [-1, 512, 4, 4]           1,024\n",
            "           Conv2d-46            [-1, 512, 4, 4]       2,359,296\n",
            "      BatchNorm2d-47            [-1, 512, 4, 4]           1,024\n",
            "       BasicBlock-48            [-1, 512, 4, 4]               0\n",
            "           Linear-49                   [-1, 10]           5,130\n",
            "================================================================\n",
            "Total params: 11,173,962\n",
            "Trainable params: 11,173,962\n",
            "Non-trainable params: 0\n",
            "----------------------------------------------------------------\n",
            "Input size (MB): 0.01\n",
            "Forward/backward pass size (MB): 11.25\n",
            "Params size (MB): 42.63\n",
            "Estimated Total Size (MB): 53.89\n",
            "----------------------------------------------------------------\n",
            "None\n"
          ],
          "name": "stdout"
        }
      ]
    },
    {
      "cell_type": "code",
      "metadata": {
        "id": "KIxEGRQSAhH5",
        "colab_type": "code",
        "colab": {}
      },
      "source": [
        "train = SourceFileLoader('train',join('/content/drive/My Drive/Colab Notebooks/S8','train.py')).load_module()\n",
        "from train import train\n",
        "test = SourceFileLoader('test',join('/content/drive/My Drive/Colab Notebooks/S8','test.py')).load_module()\n",
        "from test import test"
      ],
      "execution_count": 0,
      "outputs": []
    },
    {
      "cell_type": "code",
      "metadata": {
        "id": "7KgIWH6vDRPi",
        "colab_type": "code",
        "colab": {
          "base_uri": "https://localhost:8080/",
          "height": 1000
        },
        "outputId": "cccf17a8-3c31-444e-9c3a-0d22525cf15c"
      },
      "source": [
        "criterion = nn.CrossEntropyLoss()\n",
        "optimizer = optim.SGD(model.parameters(), lr=0.001, momentum=0.9, weight_decay=0.001)\n",
        "\n",
        "def run():\n",
        "  test_losses = []\n",
        "  test_accs = []\n",
        "  misclassified_imgs = []\n",
        "  for epoch in range(args.epochs):\n",
        "      print(\"EPOCH:\", epoch+1)\n",
        "      train(model, device, data.train_loader, criterion, optimizer, epoch)\n",
        "      test(model, device, data.test_loader, criterion, data.classes, test_losses, test_accs, misclassified_imgs, epoch==args.epochs-1)\n",
        "  return test_losses, test_accs, misclassified_imgs\n",
        "\n",
        "# train and test the model\n",
        "test_losses, test_accs, misclassified_imgs = run()"
      ],
      "execution_count": 16,
      "outputs": [
        {
          "output_type": "stream",
          "text": [
            "\r  0%|          | 0/782 [00:00<?, ?it/s]"
          ],
          "name": "stderr"
        },
        {
          "output_type": "stream",
          "text": [
            "EPOCH: 1\n"
          ],
          "name": "stdout"
        },
        {
          "output_type": "stream",
          "text": [
            "Loss=1.1138094663619995 Batch_id=781 Accuracy=50.25: 100%|██████████| 782/782 [00:59<00:00, 13.07it/s]\n",
            "  0%|          | 0/782 [00:00<?, ?it/s]"
          ],
          "name": "stderr"
        },
        {
          "output_type": "stream",
          "text": [
            "Test set: Average loss: 0.0164, Accuracy: 6168/10000 (61.68%)\n",
            "\n",
            "EPOCH: 2\n"
          ],
          "name": "stdout"
        },
        {
          "output_type": "stream",
          "text": [
            "Loss=0.8232303857803345 Batch_id=781 Accuracy=68.52: 100%|██████████| 782/782 [01:00<00:00, 12.85it/s]\n",
            "  0%|          | 0/782 [00:00<?, ?it/s]"
          ],
          "name": "stderr"
        },
        {
          "output_type": "stream",
          "text": [
            "Test set: Average loss: 0.0140, Accuracy: 6805/10000 (68.05%)\n",
            "\n",
            "EPOCH: 3\n"
          ],
          "name": "stdout"
        },
        {
          "output_type": "stream",
          "text": [
            "Loss=0.6060267686843872 Batch_id=781 Accuracy=75.60: 100%|██████████| 782/782 [01:00<00:00, 12.97it/s]\n",
            "  0%|          | 0/782 [00:00<?, ?it/s]"
          ],
          "name": "stderr"
        },
        {
          "output_type": "stream",
          "text": [
            "Test set: Average loss: 0.0151, Accuracy: 6791/10000 (67.91%)\n",
            "\n",
            "EPOCH: 4\n"
          ],
          "name": "stdout"
        },
        {
          "output_type": "stream",
          "text": [
            "Loss=0.3506786823272705 Batch_id=781 Accuracy=80.52: 100%|██████████| 782/782 [01:00<00:00, 12.85it/s]\n",
            "  0%|          | 0/782 [00:00<?, ?it/s]"
          ],
          "name": "stderr"
        },
        {
          "output_type": "stream",
          "text": [
            "Test set: Average loss: 0.0098, Accuracy: 7804/10000 (78.04%)\n",
            "\n",
            "EPOCH: 5\n"
          ],
          "name": "stdout"
        },
        {
          "output_type": "stream",
          "text": [
            "Loss=0.3742448091506958 Batch_id=781 Accuracy=84.27: 100%|██████████| 782/782 [01:01<00:00, 12.75it/s]\n",
            "  0%|          | 0/782 [00:00<?, ?it/s]"
          ],
          "name": "stderr"
        },
        {
          "output_type": "stream",
          "text": [
            "Test set: Average loss: 0.0119, Accuracy: 7486/10000 (74.86%)\n",
            "\n",
            "EPOCH: 6\n"
          ],
          "name": "stdout"
        },
        {
          "output_type": "stream",
          "text": [
            "Loss=0.6026022434234619 Batch_id=781 Accuracy=86.87: 100%|██████████| 782/782 [01:01<00:00, 12.80it/s]\n",
            "  0%|          | 0/782 [00:00<?, ?it/s]"
          ],
          "name": "stderr"
        },
        {
          "output_type": "stream",
          "text": [
            "Test set: Average loss: 0.0116, Accuracy: 7596/10000 (75.96%)\n",
            "\n",
            "EPOCH: 7\n"
          ],
          "name": "stdout"
        },
        {
          "output_type": "stream",
          "text": [
            "Loss=0.30536848306655884 Batch_id=781 Accuracy=89.33: 100%|██████████| 782/782 [01:01<00:00, 12.74it/s]\n",
            "  0%|          | 0/782 [00:00<?, ?it/s]"
          ],
          "name": "stderr"
        },
        {
          "output_type": "stream",
          "text": [
            "Test set: Average loss: 0.0094, Accuracy: 8003/10000 (80.03%)\n",
            "\n",
            "EPOCH: 8\n"
          ],
          "name": "stdout"
        },
        {
          "output_type": "stream",
          "text": [
            "Loss=0.6367437839508057 Batch_id=781 Accuracy=91.27: 100%|██████████| 782/782 [01:01<00:00, 12.81it/s]\n",
            "  0%|          | 0/782 [00:00<?, ?it/s]"
          ],
          "name": "stderr"
        },
        {
          "output_type": "stream",
          "text": [
            "Test set: Average loss: 0.0106, Accuracy: 7910/10000 (79.10%)\n",
            "\n",
            "EPOCH: 9\n"
          ],
          "name": "stdout"
        },
        {
          "output_type": "stream",
          "text": [
            "Loss=0.2993769943714142 Batch_id=781 Accuracy=92.96: 100%|██████████| 782/782 [01:01<00:00, 12.74it/s]\n",
            "  0%|          | 0/782 [00:00<?, ?it/s]"
          ],
          "name": "stderr"
        },
        {
          "output_type": "stream",
          "text": [
            "Test set: Average loss: 0.0096, Accuracy: 8050/10000 (80.50%)\n",
            "\n",
            "EPOCH: 10\n"
          ],
          "name": "stdout"
        },
        {
          "output_type": "stream",
          "text": [
            "Loss=0.12560389935970306 Batch_id=781 Accuracy=94.00: 100%|██████████| 782/782 [01:01<00:00, 12.73it/s]\n",
            "  0%|          | 0/782 [00:00<?, ?it/s]"
          ],
          "name": "stderr"
        },
        {
          "output_type": "stream",
          "text": [
            "Test set: Average loss: 0.0094, Accuracy: 8149/10000 (81.49%)\n",
            "\n",
            "EPOCH: 11\n"
          ],
          "name": "stdout"
        },
        {
          "output_type": "stream",
          "text": [
            "Loss=0.3138888478279114 Batch_id=781 Accuracy=95.25: 100%|██████████| 782/782 [01:01<00:00, 12.77it/s]\n",
            "  0%|          | 0/782 [00:00<?, ?it/s]"
          ],
          "name": "stderr"
        },
        {
          "output_type": "stream",
          "text": [
            "Test set: Average loss: 0.0107, Accuracy: 8033/10000 (80.33%)\n",
            "\n",
            "EPOCH: 12\n"
          ],
          "name": "stdout"
        },
        {
          "output_type": "stream",
          "text": [
            "Loss=0.06051832437515259 Batch_id=781 Accuracy=95.80: 100%|██████████| 782/782 [01:00<00:00, 12.82it/s]\n",
            "  0%|          | 0/782 [00:00<?, ?it/s]"
          ],
          "name": "stderr"
        },
        {
          "output_type": "stream",
          "text": [
            "Test set: Average loss: 0.0093, Accuracy: 8209/10000 (82.09%)\n",
            "\n",
            "EPOCH: 13\n"
          ],
          "name": "stdout"
        },
        {
          "output_type": "stream",
          "text": [
            "Loss=0.21468916535377502 Batch_id=781 Accuracy=96.43: 100%|██████████| 782/782 [01:01<00:00, 12.81it/s]\n",
            "  0%|          | 0/782 [00:00<?, ?it/s]"
          ],
          "name": "stderr"
        },
        {
          "output_type": "stream",
          "text": [
            "Test set: Average loss: 0.0108, Accuracy: 8124/10000 (81.24%)\n",
            "\n",
            "EPOCH: 14\n"
          ],
          "name": "stdout"
        },
        {
          "output_type": "stream",
          "text": [
            "Loss=0.28549593687057495 Batch_id=781 Accuracy=96.96: 100%|██████████| 782/782 [01:00<00:00, 12.84it/s]\n",
            "  0%|          | 0/782 [00:00<?, ?it/s]"
          ],
          "name": "stderr"
        },
        {
          "output_type": "stream",
          "text": [
            "Test set: Average loss: 0.0097, Accuracy: 8272/10000 (82.72%)\n",
            "\n",
            "EPOCH: 15\n"
          ],
          "name": "stdout"
        },
        {
          "output_type": "stream",
          "text": [
            "Loss=0.2353985607624054 Batch_id=781 Accuracy=97.59: 100%|██████████| 782/782 [01:01<00:00, 12.77it/s]\n",
            "  0%|          | 0/782 [00:00<?, ?it/s]"
          ],
          "name": "stderr"
        },
        {
          "output_type": "stream",
          "text": [
            "Test set: Average loss: 0.0110, Accuracy: 8201/10000 (82.01%)\n",
            "\n",
            "EPOCH: 16\n"
          ],
          "name": "stdout"
        },
        {
          "output_type": "stream",
          "text": [
            "Loss=0.1274351328611374 Batch_id=781 Accuracy=98.14: 100%|██████████| 782/782 [01:01<00:00, 12.76it/s]\n",
            "  0%|          | 0/782 [00:00<?, ?it/s]"
          ],
          "name": "stderr"
        },
        {
          "output_type": "stream",
          "text": [
            "Test set: Average loss: 0.0099, Accuracy: 8302/10000 (83.02%)\n",
            "\n",
            "EPOCH: 17\n"
          ],
          "name": "stdout"
        },
        {
          "output_type": "stream",
          "text": [
            "Loss=0.3121718764305115 Batch_id=781 Accuracy=98.33: 100%|██████████| 782/782 [01:00<00:00, 12.84it/s]\n",
            "  0%|          | 0/782 [00:00<?, ?it/s]"
          ],
          "name": "stderr"
        },
        {
          "output_type": "stream",
          "text": [
            "Test set: Average loss: 0.0098, Accuracy: 8317/10000 (83.17%)\n",
            "\n",
            "EPOCH: 18\n"
          ],
          "name": "stdout"
        },
        {
          "output_type": "stream",
          "text": [
            "Loss=0.011758774518966675 Batch_id=781 Accuracy=98.61: 100%|██████████| 782/782 [01:01<00:00, 12.70it/s]\n",
            "  0%|          | 0/782 [00:00<?, ?it/s]"
          ],
          "name": "stderr"
        },
        {
          "output_type": "stream",
          "text": [
            "Test set: Average loss: 0.0095, Accuracy: 8402/10000 (84.02%)\n",
            "\n",
            "EPOCH: 19\n"
          ],
          "name": "stdout"
        },
        {
          "output_type": "stream",
          "text": [
            "Loss=0.052595511078834534 Batch_id=781 Accuracy=98.99: 100%|██████████| 782/782 [01:01<00:00, 12.72it/s]\n",
            "  0%|          | 0/782 [00:00<?, ?it/s]"
          ],
          "name": "stderr"
        },
        {
          "output_type": "stream",
          "text": [
            "Test set: Average loss: 0.0103, Accuracy: 8337/10000 (83.37%)\n",
            "\n",
            "EPOCH: 20\n"
          ],
          "name": "stdout"
        },
        {
          "output_type": "stream",
          "text": [
            "Loss=0.13800477981567383 Batch_id=781 Accuracy=99.13: 100%|██████████| 782/782 [01:01<00:00, 12.72it/s]\n",
            "  0%|          | 0/782 [00:00<?, ?it/s]"
          ],
          "name": "stderr"
        },
        {
          "output_type": "stream",
          "text": [
            "Test set: Average loss: 0.0103, Accuracy: 8335/10000 (83.35%)\n",
            "\n",
            "EPOCH: 21\n"
          ],
          "name": "stdout"
        },
        {
          "output_type": "stream",
          "text": [
            "Loss=0.0022935867309570312 Batch_id=781 Accuracy=98.83: 100%|██████████| 782/782 [01:00<00:00, 12.86it/s]\n",
            "  0%|          | 0/782 [00:00<?, ?it/s]"
          ],
          "name": "stderr"
        },
        {
          "output_type": "stream",
          "text": [
            "Test set: Average loss: 0.0100, Accuracy: 8362/10000 (83.62%)\n",
            "\n",
            "EPOCH: 22\n"
          ],
          "name": "stdout"
        },
        {
          "output_type": "stream",
          "text": [
            "Loss=0.011028677225112915 Batch_id=781 Accuracy=99.26: 100%|██████████| 782/782 [01:01<00:00, 12.76it/s]\n",
            "  0%|          | 0/782 [00:00<?, ?it/s]"
          ],
          "name": "stderr"
        },
        {
          "output_type": "stream",
          "text": [
            "Test set: Average loss: 0.0104, Accuracy: 8324/10000 (83.24%)\n",
            "\n",
            "EPOCH: 23\n"
          ],
          "name": "stdout"
        },
        {
          "output_type": "stream",
          "text": [
            "Loss=0.008450299501419067 Batch_id=781 Accuracy=99.32: 100%|██████████| 782/782 [01:01<00:00, 12.77it/s]\n",
            "  0%|          | 0/782 [00:00<?, ?it/s]"
          ],
          "name": "stderr"
        },
        {
          "output_type": "stream",
          "text": [
            "Test set: Average loss: 0.0107, Accuracy: 8295/10000 (82.95%)\n",
            "\n",
            "EPOCH: 24\n"
          ],
          "name": "stdout"
        },
        {
          "output_type": "stream",
          "text": [
            "Loss=0.1278105229139328 Batch_id=781 Accuracy=99.59: 100%|██████████| 782/782 [01:01<00:00, 12.74it/s]\n",
            "  0%|          | 0/782 [00:00<?, ?it/s]"
          ],
          "name": "stderr"
        },
        {
          "output_type": "stream",
          "text": [
            "Test set: Average loss: 0.0098, Accuracy: 8444/10000 (84.44%)\n",
            "\n",
            "EPOCH: 25\n"
          ],
          "name": "stdout"
        },
        {
          "output_type": "stream",
          "text": [
            "Loss=0.005521118640899658 Batch_id=781 Accuracy=99.61: 100%|██████████| 782/782 [01:00<00:00, 12.86it/s]\n",
            "  0%|          | 0/782 [00:00<?, ?it/s]"
          ],
          "name": "stderr"
        },
        {
          "output_type": "stream",
          "text": [
            "\n",
            "Accuracy of plane : 88 %\n",
            "Accuracy of   car : 94 %\n",
            "Accuracy of  bird : 73 %\n",
            "Accuracy of   cat : 46 %\n",
            "Accuracy of  deer : 86 %\n",
            "Accuracy of   dog : 74 %\n",
            "Accuracy of  frog : 92 %\n",
            "Accuracy of horse : 86 %\n",
            "Accuracy of  ship : 86 %\n",
            "Accuracy of truck : 86 %\n",
            "\n",
            "Test set: Average loss: 0.0092, Accuracy: 8520/10000 (85.20%)\n",
            "\n",
            "EPOCH: 26\n"
          ],
          "name": "stdout"
        },
        {
          "output_type": "stream",
          "text": [
            "Loss=0.0007038116455078125 Batch_id=781 Accuracy=99.77: 100%|██████████| 782/782 [01:00<00:00, 12.91it/s]\n",
            "  0%|          | 0/782 [00:00<?, ?it/s]"
          ],
          "name": "stderr"
        },
        {
          "output_type": "stream",
          "text": [
            "\n",
            "Accuracy of plane : 84 %\n",
            "Accuracy of   car : 82 %\n",
            "Accuracy of  bird : 81 %\n",
            "Accuracy of   cat : 66 %\n",
            "Accuracy of  deer : 80 %\n",
            "Accuracy of   dog : 76 %\n",
            "Accuracy of  frog : 94 %\n",
            "Accuracy of horse : 85 %\n",
            "Accuracy of  ship : 97 %\n",
            "Accuracy of truck : 95 %\n",
            "\n",
            "Test set: Average loss: 0.0093, Accuracy: 8509/10000 (85.09%)\n",
            "\n",
            "EPOCH: 27\n"
          ],
          "name": "stdout"
        },
        {
          "output_type": "stream",
          "text": [
            "Loss=0.02255919575691223 Batch_id=781 Accuracy=99.84: 100%|██████████| 782/782 [01:01<00:00, 12.74it/s]\n",
            "  0%|          | 0/782 [00:00<?, ?it/s]"
          ],
          "name": "stderr"
        },
        {
          "output_type": "stream",
          "text": [
            "Test set: Average loss: 0.0097, Accuracy: 8462/10000 (84.62%)\n",
            "\n",
            "EPOCH: 28\n"
          ],
          "name": "stdout"
        },
        {
          "output_type": "stream",
          "text": [
            "Loss=0.007519811391830444 Batch_id=781 Accuracy=99.90: 100%|██████████| 782/782 [01:01<00:00, 12.76it/s]\n",
            "  0%|          | 0/782 [00:00<?, ?it/s]"
          ],
          "name": "stderr"
        },
        {
          "output_type": "stream",
          "text": [
            "Test set: Average loss: 0.0098, Accuracy: 8482/10000 (84.82%)\n",
            "\n",
            "EPOCH: 29\n"
          ],
          "name": "stdout"
        },
        {
          "output_type": "stream",
          "text": [
            "Loss=0.05233544111251831 Batch_id=781 Accuracy=99.88: 100%|██████████| 782/782 [01:01<00:00, 12.72it/s]\n",
            "  0%|          | 0/782 [00:00<?, ?it/s]"
          ],
          "name": "stderr"
        },
        {
          "output_type": "stream",
          "text": [
            "Test set: Average loss: 0.0096, Accuracy: 8493/10000 (84.93%)\n",
            "\n",
            "EPOCH: 30\n"
          ],
          "name": "stdout"
        },
        {
          "output_type": "stream",
          "text": [
            "Loss=0.013588815927505493 Batch_id=781 Accuracy=99.91: 100%|██████████| 782/782 [01:00<00:00, 12.87it/s]\n",
            "  0%|          | 0/782 [00:00<?, ?it/s]"
          ],
          "name": "stderr"
        },
        {
          "output_type": "stream",
          "text": [
            "\n",
            "Accuracy of plane : 85 %\n",
            "Accuracy of   car : 95 %\n",
            "Accuracy of  bird : 72 %\n",
            "Accuracy of   cat : 75 %\n",
            "Accuracy of  deer : 83 %\n",
            "Accuracy of   dog : 83 %\n",
            "Accuracy of  frog : 88 %\n",
            "Accuracy of horse : 91 %\n",
            "Accuracy of  ship : 93 %\n",
            "Accuracy of truck : 87 %\n",
            "\n",
            "Test set: Average loss: 0.0094, Accuracy: 8572/10000 (85.72%)\n",
            "\n",
            "EPOCH: 31\n"
          ],
          "name": "stdout"
        },
        {
          "output_type": "stream",
          "text": [
            "Loss=0.0018666386604309082 Batch_id=781 Accuracy=99.97: 100%|██████████| 782/782 [01:01<00:00, 12.78it/s]\n",
            "  0%|          | 0/782 [00:00<?, ?it/s]"
          ],
          "name": "stderr"
        },
        {
          "output_type": "stream",
          "text": [
            "\n",
            "Accuracy of plane : 84 %\n",
            "Accuracy of   car : 96 %\n",
            "Accuracy of  bird : 89 %\n",
            "Accuracy of   cat : 67 %\n",
            "Accuracy of  deer : 92 %\n",
            "Accuracy of   dog : 67 %\n",
            "Accuracy of  frog : 83 %\n",
            "Accuracy of horse : 84 %\n",
            "Accuracy of  ship : 95 %\n",
            "Accuracy of truck : 93 %\n",
            "\n",
            "Test set: Average loss: 0.0092, Accuracy: 8550/10000 (85.50%)\n",
            "\n",
            "EPOCH: 32\n"
          ],
          "name": "stdout"
        },
        {
          "output_type": "stream",
          "text": [
            "Loss=0.023561179637908936 Batch_id=781 Accuracy=99.96: 100%|██████████| 782/782 [01:01<00:00, 12.80it/s]\n",
            "  0%|          | 0/782 [00:00<?, ?it/s]"
          ],
          "name": "stderr"
        },
        {
          "output_type": "stream",
          "text": [
            "\n",
            "Accuracy of plane : 83 %\n",
            "Accuracy of   car : 92 %\n",
            "Accuracy of  bird : 81 %\n",
            "Accuracy of   cat : 69 %\n",
            "Accuracy of  deer : 80 %\n",
            "Accuracy of   dog : 80 %\n",
            "Accuracy of  frog : 85 %\n",
            "Accuracy of horse : 87 %\n",
            "Accuracy of  ship : 96 %\n",
            "Accuracy of truck : 86 %\n",
            "\n",
            "Test set: Average loss: 0.0089, Accuracy: 8589/10000 (85.89%)\n",
            "\n",
            "EPOCH: 33\n"
          ],
          "name": "stdout"
        },
        {
          "output_type": "stream",
          "text": [
            "Loss=0.023318320512771606 Batch_id=781 Accuracy=99.98: 100%|██████████| 782/782 [01:01<00:00, 12.75it/s]\n",
            "  0%|          | 0/782 [00:00<?, ?it/s]"
          ],
          "name": "stderr"
        },
        {
          "output_type": "stream",
          "text": [
            "\n",
            "Accuracy of plane : 96 %\n",
            "Accuracy of   car : 89 %\n",
            "Accuracy of  bird : 80 %\n",
            "Accuracy of   cat : 66 %\n",
            "Accuracy of  deer : 88 %\n",
            "Accuracy of   dog : 70 %\n",
            "Accuracy of  frog : 88 %\n",
            "Accuracy of horse : 91 %\n",
            "Accuracy of  ship : 87 %\n",
            "Accuracy of truck : 91 %\n",
            "\n",
            "Test set: Average loss: 0.0088, Accuracy: 8597/10000 (85.97%)\n",
            "\n",
            "EPOCH: 34\n"
          ],
          "name": "stdout"
        },
        {
          "output_type": "stream",
          "text": [
            "Loss=0.008347094058990479 Batch_id=781 Accuracy=99.99: 100%|██████████| 782/782 [01:01<00:00, 12.70it/s]\n",
            "  0%|          | 0/782 [00:00<?, ?it/s]"
          ],
          "name": "stderr"
        },
        {
          "output_type": "stream",
          "text": [
            "\n",
            "Accuracy of plane : 94 %\n",
            "Accuracy of   car : 91 %\n",
            "Accuracy of  bird : 81 %\n",
            "Accuracy of   cat : 60 %\n",
            "Accuracy of  deer : 85 %\n",
            "Accuracy of   dog : 80 %\n",
            "Accuracy of  frog : 95 %\n",
            "Accuracy of horse : 93 %\n",
            "Accuracy of  ship : 95 %\n",
            "Accuracy of truck : 89 %\n",
            "\n",
            "Test set: Average loss: 0.0086, Accuracy: 8606/10000 (86.06%)\n",
            "\n",
            "EPOCH: 35\n"
          ],
          "name": "stdout"
        },
        {
          "output_type": "stream",
          "text": [
            "Loss=0.007185757160186768 Batch_id=781 Accuracy=100.00: 100%|██████████| 782/782 [01:01<00:00, 12.81it/s]\n",
            "  0%|          | 0/782 [00:00<?, ?it/s]"
          ],
          "name": "stderr"
        },
        {
          "output_type": "stream",
          "text": [
            "\n",
            "Accuracy of plane : 87 %\n",
            "Accuracy of   car : 91 %\n",
            "Accuracy of  bird : 82 %\n",
            "Accuracy of   cat : 78 %\n",
            "Accuracy of  deer : 80 %\n",
            "Accuracy of   dog : 77 %\n",
            "Accuracy of  frog : 90 %\n",
            "Accuracy of horse : 89 %\n",
            "Accuracy of  ship : 91 %\n",
            "Accuracy of truck : 96 %\n",
            "\n",
            "Test set: Average loss: 0.0084, Accuracy: 8630/10000 (86.30%)\n",
            "\n",
            "EPOCH: 36\n"
          ],
          "name": "stdout"
        },
        {
          "output_type": "stream",
          "text": [
            "Loss=0.0019434094429016113 Batch_id=781 Accuracy=100.00: 100%|██████████| 782/782 [01:01<00:00, 12.77it/s]\n",
            "  0%|          | 0/782 [00:00<?, ?it/s]"
          ],
          "name": "stderr"
        },
        {
          "output_type": "stream",
          "text": [
            "\n",
            "Accuracy of plane : 83 %\n",
            "Accuracy of   car : 95 %\n",
            "Accuracy of  bird : 77 %\n",
            "Accuracy of   cat : 70 %\n",
            "Accuracy of  deer : 87 %\n",
            "Accuracy of   dog : 72 %\n",
            "Accuracy of  frog : 91 %\n",
            "Accuracy of horse : 98 %\n",
            "Accuracy of  ship : 94 %\n",
            "Accuracy of truck : 93 %\n",
            "\n",
            "Test set: Average loss: 0.0084, Accuracy: 8629/10000 (86.29%)\n",
            "\n",
            "EPOCH: 37\n"
          ],
          "name": "stdout"
        },
        {
          "output_type": "stream",
          "text": [
            "Loss=0.0018979310989379883 Batch_id=781 Accuracy=100.00: 100%|██████████| 782/782 [01:01<00:00, 12.75it/s]\n",
            "  0%|          | 0/782 [00:00<?, ?it/s]"
          ],
          "name": "stderr"
        },
        {
          "output_type": "stream",
          "text": [
            "\n",
            "Accuracy of plane : 88 %\n",
            "Accuracy of   car : 91 %\n",
            "Accuracy of  bird : 84 %\n",
            "Accuracy of   cat : 70 %\n",
            "Accuracy of  deer : 84 %\n",
            "Accuracy of   dog : 80 %\n",
            "Accuracy of  frog : 95 %\n",
            "Accuracy of horse : 87 %\n",
            "Accuracy of  ship : 90 %\n",
            "Accuracy of truck : 86 %\n",
            "\n",
            "Test set: Average loss: 0.0084, Accuracy: 8622/10000 (86.22%)\n",
            "\n",
            "EPOCH: 38\n"
          ],
          "name": "stdout"
        },
        {
          "output_type": "stream",
          "text": [
            "Loss=0.0015754997730255127 Batch_id=781 Accuracy=100.00: 100%|██████████| 782/782 [01:01<00:00, 12.78it/s]\n",
            "  0%|          | 0/782 [00:00<?, ?it/s]"
          ],
          "name": "stderr"
        },
        {
          "output_type": "stream",
          "text": [
            "\n",
            "Accuracy of plane : 90 %\n",
            "Accuracy of   car : 96 %\n",
            "Accuracy of  bird : 76 %\n",
            "Accuracy of   cat : 56 %\n",
            "Accuracy of  deer : 82 %\n",
            "Accuracy of   dog : 88 %\n",
            "Accuracy of  frog : 97 %\n",
            "Accuracy of horse : 91 %\n",
            "Accuracy of  ship : 95 %\n",
            "Accuracy of truck : 93 %\n",
            "\n",
            "Test set: Average loss: 0.0085, Accuracy: 8629/10000 (86.29%)\n",
            "\n",
            "EPOCH: 39\n"
          ],
          "name": "stdout"
        },
        {
          "output_type": "stream",
          "text": [
            "Loss=0.00023669004440307617 Batch_id=781 Accuracy=100.00: 100%|██████████| 782/782 [01:01<00:00, 12.77it/s]\n",
            "  0%|          | 0/782 [00:00<?, ?it/s]"
          ],
          "name": "stderr"
        },
        {
          "output_type": "stream",
          "text": [
            "\n",
            "Accuracy of plane : 82 %\n",
            "Accuracy of   car : 96 %\n",
            "Accuracy of  bird : 71 %\n",
            "Accuracy of   cat : 68 %\n",
            "Accuracy of  deer : 87 %\n",
            "Accuracy of   dog : 85 %\n",
            "Accuracy of  frog : 91 %\n",
            "Accuracy of horse : 91 %\n",
            "Accuracy of  ship : 88 %\n",
            "Accuracy of truck : 96 %\n",
            "\n",
            "Test set: Average loss: 0.0085, Accuracy: 8621/10000 (86.21%)\n",
            "\n",
            "EPOCH: 40\n"
          ],
          "name": "stdout"
        },
        {
          "output_type": "stream",
          "text": [
            "Loss=0.0013068020343780518 Batch_id=781 Accuracy=100.00: 100%|██████████| 782/782 [01:01<00:00, 12.76it/s]\n",
            "  0%|          | 0/782 [00:00<?, ?it/s]"
          ],
          "name": "stderr"
        },
        {
          "output_type": "stream",
          "text": [
            "\n",
            "Accuracy of plane : 89 %\n",
            "Accuracy of   car : 96 %\n",
            "Accuracy of  bird : 80 %\n",
            "Accuracy of   cat : 74 %\n",
            "Accuracy of  deer : 88 %\n",
            "Accuracy of   dog : 88 %\n",
            "Accuracy of  frog : 94 %\n",
            "Accuracy of horse : 90 %\n",
            "Accuracy of  ship : 93 %\n",
            "Accuracy of truck : 92 %\n",
            "\n",
            "Test set: Average loss: 0.0083, Accuracy: 8617/10000 (86.17%)\n",
            "\n",
            "EPOCH: 41\n"
          ],
          "name": "stdout"
        },
        {
          "output_type": "stream",
          "text": [
            "Loss=0.15791228413581848 Batch_id=781 Accuracy=100.00: 100%|██████████| 782/782 [01:00<00:00, 12.82it/s]\n",
            "  0%|          | 0/782 [00:00<?, ?it/s]"
          ],
          "name": "stderr"
        },
        {
          "output_type": "stream",
          "text": [
            "\n",
            "Accuracy of plane : 85 %\n",
            "Accuracy of   car : 91 %\n",
            "Accuracy of  bird : 79 %\n",
            "Accuracy of   cat : 67 %\n",
            "Accuracy of  deer : 88 %\n",
            "Accuracy of   dog : 89 %\n",
            "Accuracy of  frog : 90 %\n",
            "Accuracy of horse : 94 %\n",
            "Accuracy of  ship : 95 %\n",
            "Accuracy of truck : 94 %\n",
            "\n",
            "Test set: Average loss: 0.0083, Accuracy: 8628/10000 (86.28%)\n",
            "\n",
            "EPOCH: 42\n"
          ],
          "name": "stdout"
        },
        {
          "output_type": "stream",
          "text": [
            "Loss=0.003990501165390015 Batch_id=781 Accuracy=99.98: 100%|██████████| 782/782 [01:01<00:00, 12.79it/s]\n",
            "  0%|          | 0/782 [00:00<?, ?it/s]"
          ],
          "name": "stderr"
        },
        {
          "output_type": "stream",
          "text": [
            "\n",
            "Accuracy of plane : 98 %\n",
            "Accuracy of   car : 96 %\n",
            "Accuracy of  bird : 72 %\n",
            "Accuracy of   cat : 68 %\n",
            "Accuracy of  deer : 81 %\n",
            "Accuracy of   dog : 78 %\n",
            "Accuracy of  frog : 91 %\n",
            "Accuracy of horse : 93 %\n",
            "Accuracy of  ship : 94 %\n",
            "Accuracy of truck : 88 %\n",
            "\n",
            "Test set: Average loss: 0.0086, Accuracy: 8595/10000 (85.95%)\n",
            "\n",
            "EPOCH: 43\n"
          ],
          "name": "stdout"
        },
        {
          "output_type": "stream",
          "text": [
            "Loss=0.008352100849151611 Batch_id=781 Accuracy=99.99: 100%|██████████| 782/782 [01:01<00:00, 12.70it/s]\n",
            "  0%|          | 0/782 [00:00<?, ?it/s]"
          ],
          "name": "stderr"
        },
        {
          "output_type": "stream",
          "text": [
            "\n",
            "Accuracy of plane : 89 %\n",
            "Accuracy of   car : 93 %\n",
            "Accuracy of  bird : 78 %\n",
            "Accuracy of   cat : 59 %\n",
            "Accuracy of  deer : 84 %\n",
            "Accuracy of   dog : 77 %\n",
            "Accuracy of  frog : 91 %\n",
            "Accuracy of horse : 95 %\n",
            "Accuracy of  ship : 96 %\n",
            "Accuracy of truck : 92 %\n",
            "\n",
            "Test set: Average loss: 0.0082, Accuracy: 8615/10000 (86.15%)\n",
            "\n",
            "EPOCH: 44\n"
          ],
          "name": "stdout"
        },
        {
          "output_type": "stream",
          "text": [
            "Loss=0.00272446870803833 Batch_id=781 Accuracy=100.00: 100%|██████████| 782/782 [01:01<00:00, 12.73it/s]\n",
            "  0%|          | 0/782 [00:00<?, ?it/s]"
          ],
          "name": "stderr"
        },
        {
          "output_type": "stream",
          "text": [
            "\n",
            "Accuracy of plane : 83 %\n",
            "Accuracy of   car : 90 %\n",
            "Accuracy of  bird : 78 %\n",
            "Accuracy of   cat : 71 %\n",
            "Accuracy of  deer : 85 %\n",
            "Accuracy of   dog : 84 %\n",
            "Accuracy of  frog : 87 %\n",
            "Accuracy of horse : 95 %\n",
            "Accuracy of  ship : 90 %\n",
            "Accuracy of truck : 93 %\n",
            "\n",
            "Test set: Average loss: 0.0083, Accuracy: 8621/10000 (86.21%)\n",
            "\n",
            "EPOCH: 45\n"
          ],
          "name": "stdout"
        },
        {
          "output_type": "stream",
          "text": [
            "Loss=0.003965228796005249 Batch_id=781 Accuracy=100.00: 100%|██████████| 782/782 [01:01<00:00, 12.76it/s]\n",
            "  0%|          | 0/782 [00:00<?, ?it/s]"
          ],
          "name": "stderr"
        },
        {
          "output_type": "stream",
          "text": [
            "\n",
            "Accuracy of plane : 88 %\n",
            "Accuracy of   car : 96 %\n",
            "Accuracy of  bird : 77 %\n",
            "Accuracy of   cat : 63 %\n",
            "Accuracy of  deer : 88 %\n",
            "Accuracy of   dog : 70 %\n",
            "Accuracy of  frog : 90 %\n",
            "Accuracy of horse : 95 %\n",
            "Accuracy of  ship : 91 %\n",
            "Accuracy of truck : 96 %\n",
            "\n",
            "Test set: Average loss: 0.0083, Accuracy: 8618/10000 (86.18%)\n",
            "\n",
            "EPOCH: 46\n"
          ],
          "name": "stdout"
        },
        {
          "output_type": "stream",
          "text": [
            "Loss=0.010823220014572144 Batch_id=781 Accuracy=100.00: 100%|██████████| 782/782 [01:01<00:00, 12.74it/s]\n",
            "  0%|          | 0/782 [00:00<?, ?it/s]"
          ],
          "name": "stderr"
        },
        {
          "output_type": "stream",
          "text": [
            "\n",
            "Accuracy of plane : 94 %\n",
            "Accuracy of   car : 97 %\n",
            "Accuracy of  bird : 78 %\n",
            "Accuracy of   cat : 66 %\n",
            "Accuracy of  deer : 81 %\n",
            "Accuracy of   dog : 81 %\n",
            "Accuracy of  frog : 83 %\n",
            "Accuracy of horse : 94 %\n",
            "Accuracy of  ship : 88 %\n",
            "Accuracy of truck : 90 %\n",
            "\n",
            "Test set: Average loss: 0.0083, Accuracy: 8664/10000 (86.64%)\n",
            "\n",
            "EPOCH: 47\n"
          ],
          "name": "stdout"
        },
        {
          "output_type": "stream",
          "text": [
            "Loss=0.001199573278427124 Batch_id=781 Accuracy=100.00: 100%|██████████| 782/782 [01:01<00:00, 12.77it/s]\n",
            "  0%|          | 0/782 [00:00<?, ?it/s]"
          ],
          "name": "stderr"
        },
        {
          "output_type": "stream",
          "text": [
            "\n",
            "Accuracy of plane : 86 %\n",
            "Accuracy of   car : 95 %\n",
            "Accuracy of  bird : 70 %\n",
            "Accuracy of   cat : 65 %\n",
            "Accuracy of  deer : 83 %\n",
            "Accuracy of   dog : 79 %\n",
            "Accuracy of  frog : 91 %\n",
            "Accuracy of horse : 88 %\n",
            "Accuracy of  ship : 95 %\n",
            "Accuracy of truck : 90 %\n",
            "\n",
            "Test set: Average loss: 0.0083, Accuracy: 8609/10000 (86.09%)\n",
            "\n",
            "EPOCH: 48\n"
          ],
          "name": "stdout"
        },
        {
          "output_type": "stream",
          "text": [
            "Loss=0.0138663649559021 Batch_id=781 Accuracy=100.00: 100%|██████████| 782/782 [01:01<00:00, 12.81it/s]\n",
            "  0%|          | 0/782 [00:00<?, ?it/s]"
          ],
          "name": "stderr"
        },
        {
          "output_type": "stream",
          "text": [
            "\n",
            "Accuracy of plane : 92 %\n",
            "Accuracy of   car : 94 %\n",
            "Accuracy of  bird : 77 %\n",
            "Accuracy of   cat : 64 %\n",
            "Accuracy of  deer : 84 %\n",
            "Accuracy of   dog : 82 %\n",
            "Accuracy of  frog : 94 %\n",
            "Accuracy of horse : 88 %\n",
            "Accuracy of  ship : 93 %\n",
            "Accuracy of truck : 91 %\n",
            "\n",
            "Test set: Average loss: 0.0081, Accuracy: 8640/10000 (86.40%)\n",
            "\n",
            "EPOCH: 49\n"
          ],
          "name": "stdout"
        },
        {
          "output_type": "stream",
          "text": [
            "Loss=0.026073932647705078 Batch_id=781 Accuracy=100.00: 100%|██████████| 782/782 [01:01<00:00, 12.73it/s]\n",
            "  0%|          | 0/782 [00:00<?, ?it/s]"
          ],
          "name": "stderr"
        },
        {
          "output_type": "stream",
          "text": [
            "\n",
            "Accuracy of plane : 85 %\n",
            "Accuracy of   car : 95 %\n",
            "Accuracy of  bird : 82 %\n",
            "Accuracy of   cat : 73 %\n",
            "Accuracy of  deer : 74 %\n",
            "Accuracy of   dog : 78 %\n",
            "Accuracy of  frog : 96 %\n",
            "Accuracy of horse : 91 %\n",
            "Accuracy of  ship : 94 %\n",
            "Accuracy of truck : 96 %\n",
            "\n",
            "Test set: Average loss: 0.0080, Accuracy: 8662/10000 (86.62%)\n",
            "\n",
            "EPOCH: 50\n"
          ],
          "name": "stdout"
        },
        {
          "output_type": "stream",
          "text": [
            "Loss=0.003147423267364502 Batch_id=781 Accuracy=100.00: 100%|██████████| 782/782 [01:01<00:00, 12.72it/s]\n"
          ],
          "name": "stderr"
        },
        {
          "output_type": "stream",
          "text": [
            "\n",
            "Accuracy of plane : 94 %\n",
            "Accuracy of   car : 91 %\n",
            "Accuracy of  bird : 88 %\n",
            "Accuracy of   cat : 63 %\n",
            "Accuracy of  deer : 74 %\n",
            "Accuracy of   dog : 70 %\n",
            "Accuracy of  frog : 93 %\n",
            "Accuracy of horse : 94 %\n",
            "Accuracy of  ship : 91 %\n",
            "Accuracy of truck : 93 %\n",
            "\n",
            "Test set: Average loss: 0.0080, Accuracy: 8634/10000 (86.34%)\n",
            "\n"
          ],
          "name": "stdout"
        }
      ]
    }
  ]
}